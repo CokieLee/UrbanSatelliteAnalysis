{
 "cells": [
  {
   "cell_type": "markdown",
   "id": "32b415e6",
   "metadata": {},
   "source": [
    "Our primary dataset:\n",
    "\n",
    "Eurosat\n",
    "\n",
    "[DOI](10.1109/IGARSS.2018.8519248)\n",
    "\n",
    "[dataset](https://zenodo.org/records/7711810#.ZAm3k-zMKEA)\n",
    "\n",
    "\n",
    "download EuroSAT_MS.zip (the full spectral dataset) and extract it into this directory"
   ]
  },
  {
   "cell_type": "code",
   "execution_count": 1,
   "id": "d5ddd921",
   "metadata": {},
   "outputs": [
    {
     "name": "stdout",
     "output_type": "stream",
     "text": [
      "tensor([[0.4012, 0.7886, 0.1489],\n",
      "        [0.3766, 0.2782, 0.7422],\n",
      "        [0.5040, 0.3768, 0.0892],\n",
      "        [0.9001, 0.0771, 0.3138],\n",
      "        [0.8700, 0.9592, 0.1054]])\n"
     ]
    }
   ],
   "source": [
    "import torch\n",
    "from torch import optim\n",
    "from torch import nn\n",
    "from torch.utils.data import DataLoader\n",
    "# from tqdm import tqdm\n",
    " \n",
    "# !pip install torchvision\n",
    "import torchvision\n",
    " \n",
    "import torch.nn.functional as F\n",
    "import torchvision.datasets as datasets\n",
    "import torchvision.transforms as transforms\n",
    " \n",
    "# !pip install torchmetrics\n",
    "import torchmetrics\n",
    "import os\n",
    "\n",
    "x = torch.rand(5, 3)\n",
    "print(x)\n",
    "\n"
   ]
  },
  {
   "cell_type": "code",
   "execution_count": 10,
   "id": "0e01241f",
   "metadata": {},
   "outputs": [
    {
     "name": "stdout",
     "output_type": "stream",
     "text": [
      "['./EuroSAT_RGB/Forest', './EuroSAT_RGB/Highway', './EuroSAT_RGB/Residential', './EuroSAT_RGB/Industrial', './EuroSAT_RGB/PermanentCrop', './EuroSAT_RGB/SeaLake', './EuroSAT_RGB/Pasture', './EuroSAT_RGB/AnnualCrop', './EuroSAT_RGB/HerbaceousVegetation', './EuroSAT_RGB/River']\n",
      "27000\n",
      "X: ./EuroSAT_RGB/AnnualCrop/AnnualCrop_845.jpg\n",
      "21600\n",
      "5400\n",
      "y: AnnualCrop\n",
      "21600\n",
      "5400\n"
     ]
    }
   ],
   "source": [
    "# import zipfile\n",
    " \n",
    "# Define the path to your zip file\n",
    "# zip_file_path = 'EuroSAT_RGB.zip'\n",
    " \n",
    " \n",
    "# extract_to_directory = 'extracted_files'\n",
    " \n",
    "# try:\n",
    "#     with zipfile.ZipFile(zip_file_path, 'r') as zip_ref:\n",
    "#         zip_ref.extractall(extract_to_directory)\n",
    "#     print(f\"Successfully extracted all contents of '{zip_file_path}' to '{extract_to_directory}'\")\n",
    "# except zipfile.BadZipFile:\n",
    "#     print(f\"Error: '{zip_file_path}' is not a valid zip file.\")\n",
    "# except FileNotFoundError:\n",
    "#     print(f\"Error: Zip file '{zip_file_path}' not found.\")\n",
    "# except Exception as e:\n",
    "#     print(f\"An unexpected error occurred: {e}\")\n",
    " \n",
    "from sklearn.model_selection import train_test_split\n",
    " \n",
    "# Gather all image file paths\n",
    "image_dir = './EuroSAT_RGB/'\n",
    "all_paths = [os.path.join(image_dir, f) for f in os.listdir(image_dir)]\n",
    "all_paths = all_paths[1:]\n",
    "print(all_paths)\n",
    "all_files = []\n",
    "labels = []\n",
    "\n",
    "for path in all_paths:\n",
    "  all_files.extend([os.path.join(path, f) for f in os.listdir(path)])\n",
    "  index = path.find('EuroSAT_RGB/')\n",
    "  if index != -1:\n",
    "      start_index = index + len('EuroSAT_RGB/')\n",
    "      result = path[start_index:]\n",
    "  else:\n",
    "      result = \"\" # Target string not found\n",
    "  labels.extend([result] * len(os.listdir(path)))\n",
    " \n",
    "\n",
    "# Get labels (assuming class names are part of the file paths)\n",
    "labels = [os.path.basename(os.path.dirname(f)) for f in all_files]\n",
    "print(len(labels)) \n",
    "\n",
    "# Split the file paths, using stratify to maintain class distribution\n",
    "X_train, X_test, y_train, y_test = train_test_split(\n",
    "    all_files, labels, test_size=0.2, random_state=42, stratify=labels\n",
    ") \n",
    "print(\"X:\",X_train[0]) \n",
    "print(len(X_train)) \n",
    "print(len(X_test)) \n",
    "print(\"y:\",y_train[0]) \n",
    "print(len(y_train)) \n",
    "print(len(y_test)) \n"
   ]
  },
  {
   "cell_type": "code",
   "execution_count": null,
   "id": "bf298a0e",
   "metadata": {},
   "outputs": [
    {
     "name": "stdout",
     "output_type": "stream",
     "text": [
      "torch.Size([3, 64, 64])\n"
     ]
    }
   ],
   "source": [
    "# from PIL import Image\n",
    "# from torchvision.transforms import ToTensor\n",
    "\n",
    "# image = Image.open('EuroSAT_RGB/AnnualCrop/AnnualCrop_1.jpg')\n",
    "# image = ToTensor()(image)\n",
    "# print(image.shape)"
   ]
  },
  {
   "cell_type": "code",
   "execution_count": 4,
   "id": "a721ae42",
   "metadata": {},
   "outputs": [],
   "source": [
    "from torch import nn\n",
    "class CNN(nn.Module):\n",
    "   def __init__(self, in_channels, num_classes):\n",
    " \n",
    "       \"\"\"\n",
    "       Building blocks of convolutional neural network.\n",
    " \n",
    "       Parameters:\n",
    "           * in_channels: Number of channels in the input image (for grayscale images, 1)\n",
    "           * num_classes: Number of classes to predict. In our problem, 10 (i.e digits from  0 to 9).\n",
    "       \"\"\"\n",
    "       super(CNN, self).__init__()\n",
    " \n",
    "       # 1st convolutional layer\n",
    "       self.conv1 = nn.Conv2d(in_channels=in_channels, out_channels=8, kernel_size=3, padding=1)\n",
    "       # Max pooling layer\n",
    "       self.pool = nn.MaxPool2d(kernel_size=2, stride=2)\n",
    "       # 2nd convolutional layer\n",
    "       self.conv2 = nn.Conv2d(in_channels=8, out_channels=16, kernel_size=3, padding=1)\n",
    "       # Fully connected layer\n",
    "       self.fc1 = nn.Linear(16 * 7 * 7, num_classes)\n",
    " \n",
    "   def forward(self, x):\n",
    "       \"\"\"\n",
    "       Define the forward pass of the neural network.\n",
    " \n",
    "       Parameters:\n",
    "           x: Input tensor.\n",
    " \n",
    "       Returns:\n",
    "           torch.Tensor\n",
    "               The output tensor after passing through the network.\n",
    "       \"\"\"\n",
    "       x = F.relu(self.conv1(x))  # Apply first convolution and ReLU activation\n",
    "       x = self.pool(x)           # Apply max pooling\n",
    "       x = F.relu(self.conv2(x))  # Apply second convolution and ReLU activation\n",
    "       x = self.pool(x)           # Apply max pooling\n",
    "       x = x.reshape(x.shape[0], -1)  # Flatten the tensor\n",
    "       x = self.fc1(x)            # Apply fully connected layer\n",
    "       return x\n",
    "\n"
   ]
  },
  {
   "cell_type": "code",
   "execution_count": null,
   "id": "17377535",
   "metadata": {},
   "outputs": [],
   "source": [
    "# batch_size = 60\n",
    "\n",
    "# train_dataset = datasets.MNIST(root=\"EuroSAT_RGB/\", download=True, train=True, transform=transforms.ToTensor())\n",
    "\n",
    "# train_loader = DataLoader(dataset=train_dataset, batch_size=batch_size, shuffle=True)\n",
    "\n",
    "# test_dataset = datasets.MNIST(root=\"EuroSAT_RGB/\", download=True, train=False, transform=transforms.ToTensor())\n",
    "\n",
    "# test_loader = DataLoader(dataset=test_dataset, batch_size=batch_size, shuffle=True)\n"
   ]
  },
  {
   "cell_type": "code",
   "execution_count": 6,
   "id": "a672cf2b",
   "metadata": {},
   "outputs": [
    {
     "name": "stdout",
     "output_type": "stream",
     "text": [
      "CNN(\n",
      "  (conv1): Conv2d(3, 8, kernel_size=(3, 3), stride=(1, 1), padding=(1, 1))\n",
      "  (pool): MaxPool2d(kernel_size=2, stride=2, padding=0, dilation=1, ceil_mode=False)\n",
      "  (conv2): Conv2d(8, 16, kernel_size=(3, 3), stride=(1, 1), padding=(1, 1))\n",
      "  (fc1): Linear(in_features=784, out_features=10, bias=True)\n",
      ")\n"
     ]
    }
   ],
   "source": [
    "device = \"cuda\" if torch.cuda.is_available() else \"cpu\"\n",
    "\n",
    "model = CNN(in_channels=3, num_classes=10).to(device)\n",
    "print(model)\n",
    "# >>> CNN(\n",
    "#   (conv1): Conv2d(1, 8, kernel_size=(3, 3), stride=(1, 1), padding=(1, 1))\n",
    "#   (pool): MaxPool2d(kernel_size=2, stride=2, padding=0, dilation=1, ceil_mode=False)\n",
    "#   (conv2): Conv2d(8, 16, kernel_size=(3, 3), stride=(1, 1), padding=(1, 1))\n",
    "#   (fc1): Linear(in_features=784, out_features=10, bias=True)\n",
    "# )"
   ]
  },
  {
   "cell_type": "code",
   "execution_count": null,
   "id": "50f1ae13",
   "metadata": {},
   "outputs": [
    {
     "name": "stdout",
     "output_type": "stream",
     "text": [
      "['MNIST', 'Forest', 'Highway', 'Residential', 'Industrial', 'PermanentCrop', 'SeaLake', 'Pasture', 'AnnualCrop', 'HerbaceousVegetation', 'River']\n"
     ]
    }
   ],
   "source": [
    "\n",
    "# Define the loss function\n",
    "criterion = nn.CrossEntropyLoss()\n",
    "\n",
    "# Define the optimizer\n",
    "optimizer = optim.Adam(model.parameters(), lr=0.001)"
   ]
  },
  {
   "cell_type": "code",
   "execution_count": null,
   "id": "d1bb2afd",
   "metadata": {},
   "outputs": [
    {
     "name": "stdout",
     "output_type": "stream",
     "text": [
      "Epoch [1/10]\n"
     ]
    },
    {
     "name": "stderr",
     "output_type": "stream",
     "text": [
      "[W925 17:23:40.056207400 NNPACK.cpp:56] Could not initialize NNPACK! Reason: Unsupported hardware.\n",
      "[W925 17:23:40.074076570 NNPACK.cpp:56] Could not initialize NNPACK! Reason: Unsupported hardware.\n"
     ]
    },
    {
     "ename": "RuntimeError",
     "evalue": "mat1 and mat2 shapes cannot be multiplied (16x256 and 784x10)",
     "output_type": "error",
     "traceback": [
      "\u001b[31m---------------------------------------------------------------------------\u001b[39m",
      "\u001b[31mRuntimeError\u001b[39m                              Traceback (most recent call last)",
      "\u001b[36mCell\u001b[39m\u001b[36m \u001b[39m\u001b[32mIn[14]\u001b[39m\u001b[32m, line 14\u001b[39m\n\u001b[32m     11\u001b[39m image = ToTensor()(image)\n\u001b[32m     12\u001b[39m \u001b[38;5;66;03m# data = image.to(device)\u001b[39;00m\n\u001b[32m     13\u001b[39m \u001b[38;5;66;03m# targets = label.to(device)\u001b[39;00m\n\u001b[32m---> \u001b[39m\u001b[32m14\u001b[39m scores = \u001b[43mmodel\u001b[49m\u001b[43m(\u001b[49m\u001b[43mimage\u001b[49m\u001b[43m)\u001b[49m\n\u001b[32m     15\u001b[39m loss = criterion(scores, y_train[i])\n\u001b[32m     16\u001b[39m optimizer.zero_grad()\n",
      "\u001b[36mFile \u001b[39m\u001b[32m~/py-dev-env/lib/python3.12/site-packages/torch/nn/modules/module.py:1773\u001b[39m, in \u001b[36mModule._wrapped_call_impl\u001b[39m\u001b[34m(self, *args, **kwargs)\u001b[39m\n\u001b[32m   1771\u001b[39m     \u001b[38;5;28;01mreturn\u001b[39;00m \u001b[38;5;28mself\u001b[39m._compiled_call_impl(*args, **kwargs)  \u001b[38;5;66;03m# type: ignore[misc]\u001b[39;00m\n\u001b[32m   1772\u001b[39m \u001b[38;5;28;01melse\u001b[39;00m:\n\u001b[32m-> \u001b[39m\u001b[32m1773\u001b[39m     \u001b[38;5;28;01mreturn\u001b[39;00m \u001b[38;5;28;43mself\u001b[39;49m\u001b[43m.\u001b[49m\u001b[43m_call_impl\u001b[49m\u001b[43m(\u001b[49m\u001b[43m*\u001b[49m\u001b[43margs\u001b[49m\u001b[43m,\u001b[49m\u001b[43m \u001b[49m\u001b[43m*\u001b[49m\u001b[43m*\u001b[49m\u001b[43mkwargs\u001b[49m\u001b[43m)\u001b[49m\n",
      "\u001b[36mFile \u001b[39m\u001b[32m~/py-dev-env/lib/python3.12/site-packages/torch/nn/modules/module.py:1784\u001b[39m, in \u001b[36mModule._call_impl\u001b[39m\u001b[34m(self, *args, **kwargs)\u001b[39m\n\u001b[32m   1779\u001b[39m \u001b[38;5;66;03m# If we don't have any hooks, we want to skip the rest of the logic in\u001b[39;00m\n\u001b[32m   1780\u001b[39m \u001b[38;5;66;03m# this function, and just call forward.\u001b[39;00m\n\u001b[32m   1781\u001b[39m \u001b[38;5;28;01mif\u001b[39;00m \u001b[38;5;129;01mnot\u001b[39;00m (\u001b[38;5;28mself\u001b[39m._backward_hooks \u001b[38;5;129;01mor\u001b[39;00m \u001b[38;5;28mself\u001b[39m._backward_pre_hooks \u001b[38;5;129;01mor\u001b[39;00m \u001b[38;5;28mself\u001b[39m._forward_hooks \u001b[38;5;129;01mor\u001b[39;00m \u001b[38;5;28mself\u001b[39m._forward_pre_hooks\n\u001b[32m   1782\u001b[39m         \u001b[38;5;129;01mor\u001b[39;00m _global_backward_pre_hooks \u001b[38;5;129;01mor\u001b[39;00m _global_backward_hooks\n\u001b[32m   1783\u001b[39m         \u001b[38;5;129;01mor\u001b[39;00m _global_forward_hooks \u001b[38;5;129;01mor\u001b[39;00m _global_forward_pre_hooks):\n\u001b[32m-> \u001b[39m\u001b[32m1784\u001b[39m     \u001b[38;5;28;01mreturn\u001b[39;00m \u001b[43mforward_call\u001b[49m\u001b[43m(\u001b[49m\u001b[43m*\u001b[49m\u001b[43margs\u001b[49m\u001b[43m,\u001b[49m\u001b[43m \u001b[49m\u001b[43m*\u001b[49m\u001b[43m*\u001b[49m\u001b[43mkwargs\u001b[49m\u001b[43m)\u001b[49m\n\u001b[32m   1786\u001b[39m result = \u001b[38;5;28;01mNone\u001b[39;00m\n\u001b[32m   1787\u001b[39m called_always_called_hooks = \u001b[38;5;28mset\u001b[39m()\n",
      "\u001b[36mCell\u001b[39m\u001b[36m \u001b[39m\u001b[32mIn[4]\u001b[39m\u001b[32m, line 39\u001b[39m, in \u001b[36mCNN.forward\u001b[39m\u001b[34m(self, x)\u001b[39m\n\u001b[32m     37\u001b[39m x = \u001b[38;5;28mself\u001b[39m.pool(x)           \u001b[38;5;66;03m# Apply max pooling\u001b[39;00m\n\u001b[32m     38\u001b[39m x = x.reshape(x.shape[\u001b[32m0\u001b[39m], -\u001b[32m1\u001b[39m)  \u001b[38;5;66;03m# Flatten the tensor\u001b[39;00m\n\u001b[32m---> \u001b[39m\u001b[32m39\u001b[39m x = \u001b[38;5;28;43mself\u001b[39;49m\u001b[43m.\u001b[49m\u001b[43mfc1\u001b[49m\u001b[43m(\u001b[49m\u001b[43mx\u001b[49m\u001b[43m)\u001b[49m            \u001b[38;5;66;03m# Apply fully connected layer\u001b[39;00m\n\u001b[32m     40\u001b[39m \u001b[38;5;28;01mreturn\u001b[39;00m x\n",
      "\u001b[36mFile \u001b[39m\u001b[32m~/py-dev-env/lib/python3.12/site-packages/torch/nn/modules/module.py:1773\u001b[39m, in \u001b[36mModule._wrapped_call_impl\u001b[39m\u001b[34m(self, *args, **kwargs)\u001b[39m\n\u001b[32m   1771\u001b[39m     \u001b[38;5;28;01mreturn\u001b[39;00m \u001b[38;5;28mself\u001b[39m._compiled_call_impl(*args, **kwargs)  \u001b[38;5;66;03m# type: ignore[misc]\u001b[39;00m\n\u001b[32m   1772\u001b[39m \u001b[38;5;28;01melse\u001b[39;00m:\n\u001b[32m-> \u001b[39m\u001b[32m1773\u001b[39m     \u001b[38;5;28;01mreturn\u001b[39;00m \u001b[38;5;28;43mself\u001b[39;49m\u001b[43m.\u001b[49m\u001b[43m_call_impl\u001b[49m\u001b[43m(\u001b[49m\u001b[43m*\u001b[49m\u001b[43margs\u001b[49m\u001b[43m,\u001b[49m\u001b[43m \u001b[49m\u001b[43m*\u001b[49m\u001b[43m*\u001b[49m\u001b[43mkwargs\u001b[49m\u001b[43m)\u001b[49m\n",
      "\u001b[36mFile \u001b[39m\u001b[32m~/py-dev-env/lib/python3.12/site-packages/torch/nn/modules/module.py:1784\u001b[39m, in \u001b[36mModule._call_impl\u001b[39m\u001b[34m(self, *args, **kwargs)\u001b[39m\n\u001b[32m   1779\u001b[39m \u001b[38;5;66;03m# If we don't have any hooks, we want to skip the rest of the logic in\u001b[39;00m\n\u001b[32m   1780\u001b[39m \u001b[38;5;66;03m# this function, and just call forward.\u001b[39;00m\n\u001b[32m   1781\u001b[39m \u001b[38;5;28;01mif\u001b[39;00m \u001b[38;5;129;01mnot\u001b[39;00m (\u001b[38;5;28mself\u001b[39m._backward_hooks \u001b[38;5;129;01mor\u001b[39;00m \u001b[38;5;28mself\u001b[39m._backward_pre_hooks \u001b[38;5;129;01mor\u001b[39;00m \u001b[38;5;28mself\u001b[39m._forward_hooks \u001b[38;5;129;01mor\u001b[39;00m \u001b[38;5;28mself\u001b[39m._forward_pre_hooks\n\u001b[32m   1782\u001b[39m         \u001b[38;5;129;01mor\u001b[39;00m _global_backward_pre_hooks \u001b[38;5;129;01mor\u001b[39;00m _global_backward_hooks\n\u001b[32m   1783\u001b[39m         \u001b[38;5;129;01mor\u001b[39;00m _global_forward_hooks \u001b[38;5;129;01mor\u001b[39;00m _global_forward_pre_hooks):\n\u001b[32m-> \u001b[39m\u001b[32m1784\u001b[39m     \u001b[38;5;28;01mreturn\u001b[39;00m \u001b[43mforward_call\u001b[49m\u001b[43m(\u001b[49m\u001b[43m*\u001b[49m\u001b[43margs\u001b[49m\u001b[43m,\u001b[49m\u001b[43m \u001b[49m\u001b[43m*\u001b[49m\u001b[43m*\u001b[49m\u001b[43mkwargs\u001b[49m\u001b[43m)\u001b[49m\n\u001b[32m   1786\u001b[39m result = \u001b[38;5;28;01mNone\u001b[39;00m\n\u001b[32m   1787\u001b[39m called_always_called_hooks = \u001b[38;5;28mset\u001b[39m()\n",
      "\u001b[36mFile \u001b[39m\u001b[32m~/py-dev-env/lib/python3.12/site-packages/torch/nn/modules/linear.py:125\u001b[39m, in \u001b[36mLinear.forward\u001b[39m\u001b[34m(self, input)\u001b[39m\n\u001b[32m    124\u001b[39m \u001b[38;5;28;01mdef\u001b[39;00m\u001b[38;5;250m \u001b[39m\u001b[34mforward\u001b[39m(\u001b[38;5;28mself\u001b[39m, \u001b[38;5;28minput\u001b[39m: Tensor) -> Tensor:\n\u001b[32m--> \u001b[39m\u001b[32m125\u001b[39m     \u001b[38;5;28;01mreturn\u001b[39;00m \u001b[43mF\u001b[49m\u001b[43m.\u001b[49m\u001b[43mlinear\u001b[49m\u001b[43m(\u001b[49m\u001b[38;5;28;43minput\u001b[39;49m\u001b[43m,\u001b[49m\u001b[43m \u001b[49m\u001b[38;5;28;43mself\u001b[39;49m\u001b[43m.\u001b[49m\u001b[43mweight\u001b[49m\u001b[43m,\u001b[49m\u001b[43m \u001b[49m\u001b[38;5;28;43mself\u001b[39;49m\u001b[43m.\u001b[49m\u001b[43mbias\u001b[49m\u001b[43m)\u001b[49m\n",
      "\u001b[31mRuntimeError\u001b[39m: mat1 and mat2 shapes cannot be multiplied (16x256 and 784x10)"
     ]
    }
   ],
   "source": [
    "# import tqdm\n",
    "\n",
    "from torchvision.transforms import ToTensor\n",
    "num_epochs=10\n",
    "for epoch in range(num_epochs):\n",
    " # Iterate over training batches\n",
    "   print(f\"Epoch [{epoch + 1}/{num_epochs}]\")\n",
    "\n",
    "   for image,label in zip(X_train,y_train):\n",
    "      image = Image.open(image)\n",
    "      image = ToTensor()(image)\n",
    "      # data = image.to(device)\n",
    "      # targets = label.to(device)\n",
    "      scores = model(image)\n",
    "      loss = criterion(scores, y_train[i])\n",
    "      optimizer.zero_grad()\n",
    "      loss.backward()\n",
    "      optimizer.step()\n",
    "\n"
   ]
  }
 ],
 "metadata": {
  "kernelspec": {
   "display_name": "py-dev-env",
   "language": "python",
   "name": "python3"
  },
  "language_info": {
   "codemirror_mode": {
    "name": "ipython",
    "version": 3
   },
   "file_extension": ".py",
   "mimetype": "text/x-python",
   "name": "python",
   "nbconvert_exporter": "python",
   "pygments_lexer": "ipython3",
   "version": "3.12.3"
  }
 },
 "nbformat": 4,
 "nbformat_minor": 5
}
