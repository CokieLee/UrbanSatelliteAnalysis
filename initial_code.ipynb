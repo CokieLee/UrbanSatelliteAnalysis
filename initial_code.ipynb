{
 "cells": [
  {
   "cell_type": "markdown",
   "id": "32b415e6",
   "metadata": {},
   "source": [
    "Our primary dataset:\n",
    "\n",
    "Eurosat\n",
    "\n",
    "[DOI](10.1109/IGARSS.2018.8519248)\n",
    "\n",
    "[dataset](https://zenodo.org/records/7711810#.ZAm3k-zMKEA)\n",
    "\n",
    "\n",
    "download EuroSAT_MS.zip (the full spectral dataset) and extract it into this directory"
   ]
  },
  {
   "cell_type": "code",
   "execution_count": null,
   "id": "d5ddd921",
   "metadata": {},
   "outputs": [],
   "source": [
    "import torch\n",
    "\n",
    "x = torch.rand(5, 3)\n",
    "print(x)"
   ]
  }
 ],
 "metadata": {
  "kernelspec": {
   "display_name": "py-dev-env",
   "language": "python",
   "name": "python3"
  },
  "language_info": {
   "codemirror_mode": {
    "name": "ipython",
    "version": 3
   },
   "file_extension": ".py",
   "mimetype": "text/x-python",
   "name": "python",
   "nbconvert_exporter": "python",
   "pygments_lexer": "ipython3",
   "version": "3.12.3"
  }
 },
 "nbformat": 4,
 "nbformat_minor": 5
}
