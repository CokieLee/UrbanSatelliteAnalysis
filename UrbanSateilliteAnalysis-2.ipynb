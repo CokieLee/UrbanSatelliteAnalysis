{
  "nbformat": 4,
  "nbformat_minor": 0,
  "metadata": {
    "colab": {
      "provenance": [],
      "gpuType": "A100"
    },
    "kernelspec": {
      "name": "python3",
      "display_name": "Python 3"
    },
    "language_info": {
      "name": "python"
    },
    "accelerator": "GPU"
  },
  "cells": [
    {
      "cell_type": "markdown",
      "source": [
        "## Download the EuroSAT RGB data\n",
        "---\n",
        "\n"
      ],
      "metadata": {
        "id": "XTUzNo2zr6Oi"
      }
    },
    {
      "cell_type": "code",
      "execution_count": 1,
      "metadata": {
        "colab": {
          "base_uri": "https://localhost:8080/"
        },
        "id": "yEv00UsMnlXU",
        "outputId": "3a588821-6b45-439d-c3d7-51d123f5d040"
      },
      "outputs": [
        {
          "output_type": "stream",
          "name": "stdout",
          "text": [
            "Collecting zenodo-get\n",
            "  Downloading zenodo_get-2.0.0-py3-none-any.whl.metadata (46 kB)\n",
            "\u001b[?25l     \u001b[90m━━━━━━━━━━━━━━━━━━━━━━━━━━━━━━━━━━━━━━━━\u001b[0m \u001b[32m0.0/46.5 kB\u001b[0m \u001b[31m?\u001b[0m eta \u001b[36m-:--:--\u001b[0m\r\u001b[2K     \u001b[90m━━━━━━━━━━━━━━━━━━━━━━━━━━━━━━━━━━━━━━━━\u001b[0m \u001b[32m46.5/46.5 kB\u001b[0m \u001b[31m4.4 MB/s\u001b[0m eta \u001b[36m0:00:00\u001b[0m\n",
            "\u001b[?25hRequirement already satisfied: requests in /usr/local/lib/python3.12/dist-packages (from zenodo-get) (2.32.4)\n",
            "Collecting wget (from zenodo-get)\n",
            "  Downloading wget-3.2.zip (10 kB)\n",
            "  Preparing metadata (setup.py) ... \u001b[?25l\u001b[?25hdone\n",
            "Requirement already satisfied: humanize in /usr/local/lib/python3.12/dist-packages (from zenodo-get) (4.13.0)\n",
            "Requirement already satisfied: click in /usr/local/lib/python3.12/dist-packages (from zenodo-get) (8.3.0)\n",
            "Collecting coverage>=7.8.2 (from zenodo-get)\n",
            "  Downloading coverage-7.11.0-cp312-cp312-manylinux1_x86_64.manylinux_2_28_x86_64.manylinux_2_5_x86_64.whl.metadata (9.0 kB)\n",
            "Requirement already satisfied: charset_normalizer<4,>=2 in /usr/local/lib/python3.12/dist-packages (from requests->zenodo-get) (3.4.3)\n",
            "Requirement already satisfied: idna<4,>=2.5 in /usr/local/lib/python3.12/dist-packages (from requests->zenodo-get) (3.10)\n",
            "Requirement already satisfied: urllib3<3,>=1.21.1 in /usr/local/lib/python3.12/dist-packages (from requests->zenodo-get) (2.5.0)\n",
            "Requirement already satisfied: certifi>=2017.4.17 in /usr/local/lib/python3.12/dist-packages (from requests->zenodo-get) (2025.10.5)\n",
            "Downloading zenodo_get-2.0.0-py3-none-any.whl (34 kB)\n",
            "Downloading coverage-7.11.0-cp312-cp312-manylinux1_x86_64.manylinux_2_28_x86_64.manylinux_2_5_x86_64.whl (250 kB)\n",
            "\u001b[2K   \u001b[90m━━━━━━━━━━━━━━━━━━━━━━━━━━━━━━━━━━━━━━━━\u001b[0m \u001b[32m250.6/250.6 kB\u001b[0m \u001b[31m27.3 MB/s\u001b[0m eta \u001b[36m0:00:00\u001b[0m\n",
            "\u001b[?25hBuilding wheels for collected packages: wget\n",
            "  Building wheel for wget (setup.py) ... \u001b[?25l\u001b[?25hdone\n",
            "  Created wheel for wget: filename=wget-3.2-py3-none-any.whl size=9655 sha256=e6383315f95462f59a4adbad80b02b370f0cce7705c33f629b11ee10f1b6dfaf\n",
            "  Stored in directory: /root/.cache/pip/wheels/01/46/3b/e29ffbe4ebe614ff224bad40fc6a5773a67a163251585a13a9\n",
            "Successfully built wget\n",
            "Installing collected packages: wget, coverage, zenodo-get\n",
            "Successfully installed coverage-7.11.0 wget-3.2 zenodo-get-2.0.0\n",
            "Title: EuroSAT: A Novel Dataset and Deep Learning Benchmark for Land Use and Land Cover Classification\n",
            "Keywords: remote sensing, earth observation, land cover classification, land use classification, satellite images, sentinel-2, machine learning, deep learning, deep convolutional neural network\n",
            "Publication date: 2018-07-22\n",
            "DOI: 10.5281/zenodo.7711810\n",
            "Total size: 94.7 MB\n",
            "\n",
            "Downloading (1/1):\n",
            "File: EuroSAT_RGB.zip (94.7 MB)\n",
            "Link: https://zenodo.org/api/records/7711810/files/EuroSAT_RGB.zip/content\n",
            "\n",
            "Checksum is correct for EuroSAT_RGB.zip. (f46e308c4d50d4bf32fedad2d3d62f3b)\n",
            "\n",
            "All specified files have been processed.\n"
          ]
        }
      ],
      "source": [
        "!pip install zenodo-get\n",
        "\n",
        "!zenodo_get 10.5281/zenodo.7711810 -g \"EuroSAT_RGB.zip\""
      ]
    },
    {
      "cell_type": "markdown",
      "source": [
        "## Import necessary libraries"
      ],
      "metadata": {
        "id": "F8hRG2kQr8vN"
      }
    },
    {
      "cell_type": "code",
      "source": [
        "import zipfile\n",
        "import os\n",
        "import matplotlib.pyplot as plt\n",
        "\n",
        "from sklearn.model_selection import train_test_split\n",
        "from sklearn.preprocessing import LabelEncoder\n",
        "import numpy as np\n",
        "\n",
        "from PIL import Image\n",
        "\n",
        "import torch\n",
        "from torchvision.datasets import ImageFolder\n",
        "from torch.utils.data import DataLoader, Subset\n",
        "import torch.nn as nn\n",
        "import torch.nn.functional as F\n",
        "import torchvision\n",
        "from torchvision import transforms\n",
        "from torch.utils.data import DataLoader\n",
        "\n",
        "import torch.optim as optim\n",
        "\n",
        "from IPython.display import clear_output"
      ],
      "metadata": {
        "id": "V1Vw2hzZq-hG"
      },
      "execution_count": 1,
      "outputs": []
    },
    {
      "cell_type": "markdown",
      "source": [
        "## Specify the wanted parameters"
      ],
      "metadata": {
        "id": "SEtBucI4xcaY"
      }
    },
    {
      "cell_type": "code",
      "source": [
        "batch_size = 2500 #sets the batch_size for data loading & training\n",
        "num_epochs = 100 #highest number of epochs to run\n",
        "early_stop = 10 #stops if val loss has not improved over 5 epochs\n",
        "PATH = './best_model.pth'\n"
      ],
      "metadata": {
        "id": "t9DD6uP7xcAG"
      },
      "execution_count": 17,
      "outputs": []
    },
    {
      "cell_type": "markdown",
      "source": [
        "## Extract the zip"
      ],
      "metadata": {
        "id": "zRpUTU3Nr_-y"
      }
    },
    {
      "cell_type": "code",
      "source": [
        "# Define the path to your zip file\n",
        "zip_file_path = './EuroSAT_RGB.zip'\n",
        "\n",
        "extract_to_directory = './'\n",
        "\n",
        "try:\n",
        "    with zipfile.ZipFile(zip_file_path, 'r') as zip_ref:\n",
        "        zip_ref.extractall(extract_to_directory)\n",
        "    print(f\"Successfully extracted all contents of '{zip_file_path}' to '{extract_to_directory}'\")\n",
        "except zipfile.BadZipFile:\n",
        "    print(f\"Error: '{zip_file_path}' is not a valid zip file.\")\n",
        "except FileNotFoundError:\n",
        "    print(f\"Error: Zip file '{zip_file_path}' not found.\")\n",
        "except Exception as e:\n",
        "    print(f\"An unexpected error occurred: {e}\")"
      ],
      "metadata": {
        "colab": {
          "base_uri": "https://localhost:8080/"
        },
        "id": "u1dMhd-_otgl",
        "outputId": "7492bf91-441a-4714-a8a1-6f07df4989e6"
      },
      "execution_count": 4,
      "outputs": [
        {
          "output_type": "stream",
          "name": "stdout",
          "text": [
            "Successfully extracted all contents of './EuroSAT_RGB.zip' to './'\n"
          ]
        }
      ]
    },
    {
      "cell_type": "code",
      "source": [
        "\n",
        "# Gather all image file paths\n",
        "image_dir = './EuroSAT_RGB/'\n",
        "all_paths = [os.path.join(image_dir, f) for f in os.listdir(image_dir)]\n",
        "\n",
        "all_files = []\n",
        "labels = []\n",
        "\n",
        "for path in all_paths:\n",
        "  all_files.extend([os.path.join(path, f) for f in os.listdir(path)])\n",
        "  index = path.find('EuroSAT_RGB/')\n",
        "  if index != -1:\n",
        "      start_index = index + len('EuroSAT_RGB/')\n",
        "      result = path[start_index:]\n",
        "  else:\n",
        "      result = \"\" # Target string not found\n",
        "  labels.extend([result] * len(os.listdir(path)))\n",
        "\n",
        "# Get labels (assuming class names are part of the file paths)\n",
        "labels = [os.path.basename(os.path.dirname(f)) for f in all_files]\n",
        "\n",
        "# Example categorical data\n",
        "categories = np.unique(labels)\n",
        "labels_map = {category: i for i, category in enumerate(categories)}\n",
        "\n",
        "# Initialize and fit LabelEncoder\n",
        "le = LabelEncoder()\n",
        "encoded_labels = le.fit_transform(labels)\n",
        "\n",
        "\n",
        "\n",
        "# Convert to PyTorch tensor\n",
        "encoded_tensor = torch.tensor(encoded_labels, dtype=torch.long)\n",
        "\n",
        "print(f\"Original categories: {categories}\")\n",
        "print(f\"Encoded labels: {encoded_labels}\")\n",
        "print(f\"PyTorch tensor: {encoded_tensor}\")\n"
      ],
      "metadata": {
        "colab": {
          "base_uri": "https://localhost:8080/"
        },
        "id": "4gFoDtVOcgsB",
        "outputId": "25892ff7-eba6-4eea-8b9e-66f72bef55ca"
      },
      "execution_count": 3,
      "outputs": [
        {
          "output_type": "stream",
          "name": "stdout",
          "text": [
            "Original categories: ['AnnualCrop' 'Forest' 'HerbaceousVegetation' 'Highway' 'Industrial'\n",
            " 'Pasture' 'PermanentCrop' 'Residential' 'River' 'SeaLake']\n",
            "Encoded labels: [4 4 4 ... 2 2 2]\n",
            "PyTorch tensor: tensor([4, 4, 4,  ..., 2, 2, 2])\n"
          ]
        }
      ]
    },
    {
      "cell_type": "markdown",
      "source": [
        "#Check dimensions of image data"
      ],
      "metadata": {
        "id": "mFWpaq4xryHM"
      }
    },
    {
      "cell_type": "code",
      "source": [
        "# Load the image\n",
        "image = Image.open('./EuroSAT_RGB/HerbaceousVegetation/HerbaceousVegetation_1.jpg')\n",
        "\n",
        "image_array = np.asarray(image)\n",
        "\n",
        "# Print the type and shape of the resulting NumPy array\n",
        "print(f\"Type of image_array: {type(image_array)}\")\n",
        "print(f\"Shape of image_array: {image_array.shape}\")"
      ],
      "metadata": {
        "colab": {
          "base_uri": "https://localhost:8080/"
        },
        "id": "0Hl1yeFfXuWH",
        "outputId": "3e6d4fc6-2228-4c77-9aad-e19b249bb421"
      },
      "execution_count": 4,
      "outputs": [
        {
          "output_type": "stream",
          "name": "stdout",
          "text": [
            "Type of image_array: <class 'numpy.ndarray'>\n",
            "Shape of image_array: (64, 64, 3)\n"
          ]
        }
      ]
    },
    {
      "cell_type": "markdown",
      "source": [
        "## Calculate the mean and stdev of each pixel (RGB) within our sateillite dataset"
      ],
      "metadata": {
        "id": "oRx-UanP6-Dw"
      }
    },
    {
      "cell_type": "code",
      "source": [
        "# use this transform until we can normalize\n",
        "transform = transforms.Compose([transforms.Resize((64, 64)),\n",
        "                                transforms.ToTensor()])\n",
        "dataset = ImageFolder(root='./EuroSAT_RGB', transform = transform)\n",
        "total_loader = DataLoader(dataset, batch_size = batch_size, shuffle = False, num_workers = 1)\n",
        "\n",
        "def get_mean_stdev(loader):\n",
        "    # Compute mean and stdev of all pixels in dataset\n",
        "    num_images = 0\n",
        "    mean = torch.zeros(3)\n",
        "    var = torch.zeros(3)\n",
        "    num_pixels = 0\n",
        "\n",
        "    for images, _ in loader:\n",
        "        batch_size, num_channels, height, width = images.shape\n",
        "        num_pixels += batch_size * height * width\n",
        "        mean += images.sum(dim=[0,2,3])\n",
        "\n",
        "    mean = mean/num_pixels\n",
        "\n",
        "    for images, _ in loader:\n",
        "        batch_size, num_channels, height, width = images.shape\n",
        "        var += ((images - mean[None, :, None, None])**2).sum(dim=[0,2,3])\n",
        "\n",
        "    var = var/num_pixels\n",
        "    stdev = torch.sqrt(var)\n",
        "    return mean, stdev\n",
        "\n",
        "mean, stdev = get_mean_stdev(total_loader)\n",
        "print(f'mean: {mean}, stdev: {stdev}')\n"
      ],
      "metadata": {
        "colab": {
          "base_uri": "https://localhost:8080/"
        },
        "id": "L4QOnQ0n69oM",
        "outputId": "af39434b-a532-4cd1-d396-f9806fd2e932"
      },
      "execution_count": 5,
      "outputs": [
        {
          "output_type": "stream",
          "name": "stdout",
          "text": [
            "mean: tensor([0.3444, 0.3803, 0.4078]), stdev: tensor([0.2027, 0.1369, 0.1156])\n"
          ]
        }
      ]
    },
    {
      "cell_type": "markdown",
      "source": [
        "## Specify the transformations to be applied to each image"
      ],
      "metadata": {
        "id": "fPe3ZyU_tTzx"
      }
    },
    {
      "cell_type": "code",
      "source": [
        "transform = transforms.Compose([transforms.Resize((64, 64)), # resize the images to ensure 64x64 pixels         # Convert PIL Image to PyTorch Tensor])\n",
        "transforms.ToTensor(), #convert to a tensor\n",
        "transforms.Normalize(mean=mean, std=stdev)])"
      ],
      "metadata": {
        "id": "60TiQfXlcEal"
      },
      "execution_count": 6,
      "outputs": []
    },
    {
      "cell_type": "markdown",
      "source": [
        "## Split dataset into train, val, test"
      ],
      "metadata": {
        "id": "colODsMktZIK"
      }
    },
    {
      "cell_type": "code",
      "source": [
        "dataset = ImageFolder(root='./EuroSAT_RGB', transform = transform)\n",
        "\n",
        "indices = list(range(len(dataset)))\n",
        "labels = dataset.targets\n",
        "\n",
        "train_idx, temp_idx, train_labels, temp_labels = train_test_split(indices,\n",
        "                                       labels, test_size = 0.2,\n",
        "                                       stratify = labels, random_state = 69)\n",
        "\n",
        "val_idx, test_idx, val_labels, test_labels = train_test_split(temp_idx, temp_labels, test_size=0.5, stratify = temp_labels, random_state = 69 )\n",
        "\n",
        "train_dataset = Subset(dataset, train_idx)\n",
        "val_dataset = Subset(dataset, val_idx)\n",
        "test_dataset = Subset(dataset, test_idx)\n",
        "\n",
        "device = torch.device('cuda' if torch.cuda.is_available() else 'cpu')"
      ],
      "metadata": {
        "id": "mgLz9-V1tjyL"
      },
      "execution_count": 7,
      "outputs": []
    },
    {
      "cell_type": "markdown",
      "source": [
        "## Set-up pytorch dataloaders"
      ],
      "metadata": {
        "id": "ohG3WtTgv738"
      }
    },
    {
      "cell_type": "code",
      "source": [
        "train_loader = DataLoader(train_dataset, batch_size = batch_size, shuffle = True, num_workers = 1)\n",
        "val_loader = DataLoader(val_dataset, batch_size = batch_size, shuffle=True, num_workers = 1)\n",
        "test_loader = DataLoader(test_dataset, shuffle=True, batch_size = batch_size, num_workers = 1)"
      ],
      "metadata": {
        "id": "5_Z92oetv_hM"
      },
      "execution_count": 18,
      "outputs": []
    },
    {
      "cell_type": "markdown",
      "source": [
        "## Specify the model\n",
        "CNN documentation: https://docs.pytorch.org/tutorials/recipes/recipes/defining_a_neural_network.html\n",
        "\n",
        "'Attention is all you need'\n",
        "https://arxiv.org/pdf/1706.03762"
      ],
      "metadata": {
        "id": "Xd2-IUuizLMC"
      }
    },
    {
      "cell_type": "code",
      "source": [
        "torch.cuda.empty_cache()"
      ],
      "metadata": {
        "id": "54RmwY6tHDFn"
      },
      "execution_count": 64,
      "outputs": []
    },
    {
      "cell_type": "code",
      "source": [
        "class CNN(nn.Module):\n",
        "    def __init__(self):\n",
        "        super(CNN, self).__init__()\n",
        "\n",
        "        # output 32 convolutional features with square kernel of size 3\n",
        "        self.conv1 = nn.Conv2d(in_channels = 3, out_channels = 32, kernel_size = 3, stride = 1, padding=1)\n",
        "        self.conv2 = nn.Conv2d(in_channels = 32, out_channels = 64, kernel_size = 3, stride = 1, padding = 1)\n",
        "\n",
        "        # Designed to ensure that adjacent pixels are either all 0s or all active with an input probability\n",
        "        self.dropout1 = nn.Dropout(0.25)\n",
        "        self.dropout2 = nn.Dropout(0.5)\n",
        "\n",
        "        # Maxpool 2D takes in (Cin, Hin, Win), outputs (C, Hout, Wout). If do 2,\n",
        "        #stride=2, then will divide both H, W dimensions by 2\n",
        "        self.fc1 = nn.Linear(64 * 32 * 32, 1024)\n",
        "\n",
        "        # to fit to the labels\n",
        "        self.fc2 = nn.Linear(1024, 10)\n",
        "\n",
        "        #transformer layer\n",
        "        self.transformer = nn.TransformerEncoderLayer(d_model = 64, nhead = 8, dim_feedforward=256)\n",
        "\n",
        "    # x represents our data\n",
        "    def forward(self, x):\n",
        "\n",
        "        # F is from the torch.nn.Functional library (don't require parameters)\n",
        "        x = self.conv1(x)\n",
        "        x = F.relu(x)\n",
        "        x = self.conv2(x)\n",
        "        x = F.relu(x)\n",
        "\n",
        "        # Run max pooling over x\n",
        "        x = F.max_pool2d(x,2)\n",
        "\n",
        "        # prevent overfitting\n",
        "        x = self.dropout1(x)\n",
        "\n",
        "        B, C, H, W = x.shape\n",
        "        x = x.view(B, C, H*W)       #resize so all pixels are concatenated\n",
        "        x = x.permute(2,0,1)        #H*W, B, C\n",
        "        x = self.transformer(x)       # apply transformer layer\n",
        "        x = x.permute(1, 2, 0)       # [B, C, H*W]\n",
        "        x = x.view(B, C, H, W)      # [B, 64, 32, 32]\n",
        "\n",
        "        x = torch.flatten(x, 1)\n",
        "\n",
        "        x = self.fc1(x)\n",
        "        x = F.relu(x)\n",
        "\n",
        "        x = self.dropout2(x)\n",
        "        x = self.fc2(x)\n",
        "\n",
        "        #soft-max to the labels\n",
        "        output = F.log_softmax(x, dim=1)\n",
        "        return output\n",
        "\n",
        "model = CNN()\n",
        "model.to(device)\n",
        "print(model)"
      ],
      "metadata": {
        "colab": {
          "base_uri": "https://localhost:8080/"
        },
        "id": "auYC569EzX8h",
        "outputId": "1a7bf982-05d0-4a40-baa5-e1410888e23a"
      },
      "execution_count": 19,
      "outputs": [
        {
          "output_type": "stream",
          "name": "stdout",
          "text": [
            "CNN(\n",
            "  (conv1): Conv2d(3, 32, kernel_size=(3, 3), stride=(1, 1), padding=(1, 1))\n",
            "  (conv2): Conv2d(32, 64, kernel_size=(3, 3), stride=(1, 1), padding=(1, 1))\n",
            "  (dropout1): Dropout(p=0.25, inplace=False)\n",
            "  (dropout2): Dropout(p=0.5, inplace=False)\n",
            "  (fc1): Linear(in_features=65536, out_features=1024, bias=True)\n",
            "  (fc2): Linear(in_features=1024, out_features=10, bias=True)\n",
            "  (transformer): TransformerEncoderLayer(\n",
            "    (self_attn): MultiheadAttention(\n",
            "      (out_proj): NonDynamicallyQuantizableLinear(in_features=64, out_features=64, bias=True)\n",
            "    )\n",
            "    (linear1): Linear(in_features=64, out_features=256, bias=True)\n",
            "    (dropout): Dropout(p=0.1, inplace=False)\n",
            "    (linear2): Linear(in_features=256, out_features=64, bias=True)\n",
            "    (norm1): LayerNorm((64,), eps=1e-05, elementwise_affine=True)\n",
            "    (norm2): LayerNorm((64,), eps=1e-05, elementwise_affine=True)\n",
            "    (dropout1): Dropout(p=0.1, inplace=False)\n",
            "    (dropout2): Dropout(p=0.1, inplace=False)\n",
            "  )\n",
            ")\n"
          ]
        }
      ]
    },
    {
      "cell_type": "code",
      "source": [
        "criterion = nn.CrossEntropyLoss()\n",
        "optimizer = optim.Adam(model.parameters(), lr = 0.001)"
      ],
      "metadata": {
        "id": "bkHiKQ68YfEz"
      },
      "execution_count": 20,
      "outputs": []
    },
    {
      "cell_type": "code",
      "source": [
        "train_losses = []\n",
        "val_losses = []\n",
        "\n",
        "best_val_loss = float('inf') #initialize with a high value\n",
        "count = 0\n",
        "\n",
        "\n",
        "for epoch in range(num_epochs):\n",
        "    model.train()\n",
        "    running_train_loss = 0.0\n",
        "\n",
        "  # training loop\n",
        "    for inputs, labels in train_loader:\n",
        "        inputs, labels = inputs.to(device), labels.to(device) # move to device\n",
        "\n",
        "        optimizer.zero_grad()\n",
        "        outputs = model(inputs)\n",
        "        loss = criterion(outputs, labels)\n",
        "        loss.backward()\n",
        "        optimizer.step()\n",
        "        running_train_loss += loss.item()\n",
        "\n",
        "    avg_train_loss = running_train_loss / len(train_loader) #average train loss\n",
        "    train_losses.append(avg_train_loss)\n",
        "\n",
        "    # validation loop\n",
        "    model.eval()\n",
        "    running_val_loss = 0.0\n",
        "    with torch.no_grad():\n",
        "        for inputs, labels in val_loader:\n",
        "            inputs, labels = inputs.to(device), labels.to(device)\n",
        "            outputs = model(inputs)\n",
        "            loss = criterion(outputs, labels)\n",
        "            running_val_loss += loss.item()\n",
        "\n",
        "    avg_val_loss = running_val_loss / len(val_loader)\n",
        "    val_losses.append(avg_val_loss)\n",
        "\n",
        "    clear_output(wait=True)  # clears previous plot output\n",
        "    print(f\"Epoch {epoch+1}/{num_epochs}, Train Loss: {avg_train_loss:.4f}, Val Loss: {avg_val_loss:.4f}\")\n",
        "    plt.figure(figsize=(8,5))\n",
        "    plt.plot(range(1, len(train_losses)+1), train_losses, label='Training Loss', marker = 'o')\n",
        "    plt.plot(range(1, len(val_losses)+1), val_losses, label='Validation Loss', marker = 'o')\n",
        "    plt.xlabel('Epochs')\n",
        "    plt.ylabel('Loss')\n",
        "    plt.legend()\n",
        "    plt.title(f'Train and Validation Loss, Best Validation Loss: {best_val_loss}')\n",
        "    plt.show()\n",
        "\n",
        "    if avg_val_loss < best_val_loss:\n",
        "        best_val_loss = avg_val_loss\n",
        "        count = 0\n",
        "        torch.save(model.state_dict(), PATH)\n",
        "    else:\n",
        "        count += 1\n",
        "        if count >= early_stop:\n",
        "            print(f'Early stopping criterion met')\n",
        "            break\n",
        "\n"
      ],
      "metadata": {
        "colab": {
          "base_uri": "https://localhost:8080/",
          "height": 520
        },
        "id": "359nX2wNYw4Q",
        "outputId": "814d2657-cf46-4dfa-d55f-098e1f96e4f0"
      },
      "execution_count": 21,
      "outputs": [
        {
          "output_type": "stream",
          "name": "stdout",
          "text": [
            "Epoch 49/100, Train Loss: 0.4019, Val Loss: 0.5943\n"
          ]
        },
        {
          "output_type": "display_data",
          "data": {
            "text/plain": [
              "<Figure size 800x500 with 1 Axes>"
            ],
            "image/png": "[encoded data removed]"
          },
          "metadata": {}
        },
        {
          "output_type": "stream",
          "name": "stdout",
          "text": [
            "Early stopping criterion met\n"
          ]
        }
      ]
    },
    {
      "cell_type": "code",
      "source": [
        "model = CNN()\n",
        "model.load_state_dict(torch.load(PATH, weights_only=True))\n",
        "model.to(device)"
      ],
      "metadata": {
        "id": "5dDvJUcSJYQ0",
        "colab": {
          "base_uri": "https://localhost:8080/"
        },
        "outputId": "7a11bd84-df87-4553-c196-3fa1ffa0b796"
      },
      "execution_count": 22,
      "outputs": [
        {
          "output_type": "execute_result",
          "data": {
            "text/plain": [
              "CNN(\n",
              "  (conv1): Conv2d(3, 32, kernel_size=(3, 3), stride=(1, 1), padding=(1, 1))\n",
              "  (conv2): Conv2d(32, 64, kernel_size=(3, 3), stride=(1, 1), padding=(1, 1))\n",
              "  (dropout1): Dropout(p=0.25, inplace=False)\n",
              "  (dropout2): Dropout(p=0.5, inplace=False)\n",
              "  (fc1): Linear(in_features=65536, out_features=1024, bias=True)\n",
              "  (fc2): Linear(in_features=1024, out_features=10, bias=True)\n",
              "  (transformer): TransformerEncoderLayer(\n",
              "    (self_attn): MultiheadAttention(\n",
              "      (out_proj): NonDynamicallyQuantizableLinear(in_features=64, out_features=64, bias=True)\n",
              "    )\n",
              "    (linear1): Linear(in_features=64, out_features=256, bias=True)\n",
              "    (dropout): Dropout(p=0.1, inplace=False)\n",
              "    (linear2): Linear(in_features=256, out_features=64, bias=True)\n",
              "    (norm1): LayerNorm((64,), eps=1e-05, elementwise_affine=True)\n",
              "    (norm2): LayerNorm((64,), eps=1e-05, elementwise_affine=True)\n",
              "    (dropout1): Dropout(p=0.1, inplace=False)\n",
              "    (dropout2): Dropout(p=0.1, inplace=False)\n",
              "  )\n",
              ")"
            ]
          },
          "metadata": {},
          "execution_count": 22
        }
      ]
    },
    {
      "cell_type": "code",
      "source": [
        "correct = 0\n",
        "total = 0\n",
        "# since we're not training, we don't need to calculate the gradients for our outputs\n",
        "with torch.no_grad():\n",
        "    for data in test_loader:\n",
        "        images, labels = data\n",
        "        images, labels = images.to(device), labels.to(device)\n",
        "        outputs = model(images)\n",
        "        _, predicted = torch.max(outputs.data, 1)\n",
        "        total += labels.size(0)\n",
        "        correct += (predicted == labels).sum().item()\n",
        "\n",
        "print(f'Accuracy of the network on the 10000 test images: {100 * correct // total} %')\n"
      ],
      "metadata": {
        "colab": {
          "base_uri": "https://localhost:8080/"
        },
        "id": "VEtcBhU_qCSA",
        "outputId": "c46c875d-c3af-4b05-c295-c51f2b3ad8df"
      },
      "execution_count": 23,
      "outputs": [
        {
          "output_type": "stream",
          "name": "stdout",
          "text": [
            "Accuracy of the network on the 10000 test images: 80 %\n"
          ]
        }
      ]
    },
    {
      "cell_type": "code",
      "source": [
        "# prepare to count predictions for each class\n",
        "correct_pred = {classname: 0 for classname in categories}\n",
        "total_pred = {classname:0. for classname in categories}\n",
        "\n",
        "# again no gradients needed\n",
        "with torch.no_grad():\n",
        "    for data in test_loader:\n",
        "        images, labels = data\n",
        "        images, labels = images.to(device), labels.to(device)\n",
        "        outputs = model(images)\n",
        "        _, predictions = torch.max(outputs, 1)\n",
        "        # collect correct predictions for each class\n",
        "\n",
        "        for label, prediction in zip(labels, predictions):\n",
        "            if label == prediction:\n",
        "                correct_pred[categories[label]] += 1\n",
        "            total_pred[categories[label]] += 1\n",
        "\n",
        "#print accuracy for each class\n",
        "for classname, correct_count in correct_pred.items():\n",
        "    accuracy = 100 * float(correct_count) / total_pred[classname]\n",
        "    print(f' Accuracy for class {classname:.5s} is {accuracy:.1f} %')"
      ],
      "metadata": {
        "colab": {
          "base_uri": "https://localhost:8080/"
        },
        "id": "Cgo_4rdXqjM2",
        "outputId": "548f5b20-b3dd-4b7b-8e0c-e369dc4b9ae5"
      },
      "execution_count": 24,
      "outputs": [
        {
          "output_type": "stream",
          "name": "stdout",
          "text": [
            " Accuracy for class Annua is 87.7 %\n",
            " Accuracy for class Fores is 89.0 %\n",
            " Accuracy for class Herba is 70.0 %\n",
            " Accuracy for class Highw is 57.2 %\n",
            " Accuracy for class Indus is 92.8 %\n",
            " Accuracy for class Pastu is 72.5 %\n",
            " Accuracy for class Perma is 56.8 %\n",
            " Accuracy for class Resid is 94.7 %\n",
            " Accuracy for class River is 71.6 %\n",
            " Accuracy for class SeaLa is 91.7 %\n"
          ]
        }
      ]
    }
  ]
}